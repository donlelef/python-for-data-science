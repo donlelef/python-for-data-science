{
 "cells": [
  {
   "cell_type": "markdown",
   "id": "d43c2d2544742849",
   "metadata": {},
   "source": [
    "# Polars Tutorial\n",
    "In this notebook, we'll walk through some of the most useful features of Polars.\n",
    "\n",
    "To do so, we'll use a [dataset by Terna](https://www.terna.it/en/electric-system/transparency-report/actual-generation), describing the total generation in Italy in the last year.\n",
    "\n",
    "## Setup"
   ]
  },
  {
   "cell_type": "code",
   "execution_count": null,
   "id": "3ffbda833286b124",
   "metadata": {},
   "outputs": [],
   "source": [
    "from pathlib import Path\n",
    "\n",
    "import polars as pl\n",
    "import plotly.express as px\n",
    "import plotly.io as pio\n",
    "\n",
    "pio.templates.default = 'plotly_white'"
   ]
  },
  {
   "cell_type": "code",
   "execution_count": null,
   "id": "dc98d25009851d24",
   "metadata": {},
   "outputs": [],
   "source": [
    "data_path = Path('..') / \"data\" / \"power_generation.xlsx\"\n",
    "df = pl.read_excel(data_path)\n",
    "df.head()"
   ]
  },
  {
   "cell_type": "markdown",
   "id": "57747da7dfaa079d",
   "metadata": {},
   "source": [
    "# Anatomy of a Polars DataFrame\n",
    "A Polars DataFrame is composed of several key elements.\n",
    "\n",
    "Columns form the backbone of a DataFrame. Each column represents a single variable and contains data of a specific type. Polars uses Arrow arrays for efficient memory usage and fast operations.\n",
    "\n",
    "Rows in Polars are conceptual rather than physical objects. They represent individual records but are accessed through column operations.\n",
    "\n",
    "Data types (dtypes) in Polars include common types like integers, floats, strings, and booleans, as well as specialized types for dates, times, and categorical data. The dtype determines how data is stored and manipulated.\n",
    "\n",
    "Unlike some other libraries, Polars doesn't use a separate index. Instead, the position of data in columns serves as an implicit index.\n",
    "\n",
    "The schema defines the structure of the DataFrame, specifying column names and their data types. It's crucial for understanding the layout of your data.\n",
    "\n",
    "Polars uses a chunked data structure, allowing for efficient parallel processing and lazy evaluation. This is key to its performance with large datasets.\n",
    "\n",
    "Expressions are a powerful feature in Polars for data manipulation. They allow you to define complex operations on columns efficiently.\n",
    "\n",
    "To work with Polars effectively, it's important to understand how these components interact. For example, you might select columns, apply expressions to transform data, or use the schema to understand your dataset's structure. The dtype of a column influences what operations you can perform, while the chunked structure enables Polars to process large datasets efficiently."
   ]
  },
  {
   "cell_type": "code",
   "execution_count": null,
   "id": "a69c844b74c393cd",
   "metadata": {},
   "outputs": [],
   "source": [
    "print(df.describe())"
   ]
  },
  {
   "cell_type": "code",
   "execution_count": null,
   "id": "f071dc0d1c7aedd9",
   "metadata": {},
   "outputs": [],
   "source": [
    "df.dtypes"
   ]
  },
  {
   "cell_type": "code",
   "execution_count": null,
   "id": "386f89ea1664ca97",
   "metadata": {},
   "outputs": [],
   "source": [
    "df.columns"
   ]
  },
  {
   "cell_type": "code",
   "execution_count": null,
   "id": "2c3b8fc921bc8442",
   "metadata": {},
   "outputs": [],
   "source": [
    "df.schema"
   ]
  },
  {
   "cell_type": "markdown",
   "id": "bbce1806cc857360",
   "metadata": {},
   "source": [
    "# Basic Manipulation\n",
    "We'll now demonstrate some data manipulation using Polars. For the full reference, please refer to the [official documentation](https://docs.pola.rs/)"
   ]
  },
  {
   "cell_type": "code",
   "execution_count": null,
   "id": "b5c5f32627aa3c1d",
   "metadata": {},
   "outputs": [],
   "source": [
    "df.select([\"Date\", \"Actual Generation (GWh)\", \"Primary Source\"])"
   ]
  },
  {
   "cell_type": "code",
   "execution_count": null,
   "id": "4e1994ab27b7e07b",
   "metadata": {},
   "outputs": [],
   "source": [
    "df.rename({\n",
    "    \"Actual Generation (GWh)\": \"Generation\",\n",
    "    \"Primary Source\": \"Source\"\n",
    "})"
   ]
  },
  {
   "cell_type": "code",
   "execution_count": null,
   "id": "94e823d826ea6c11",
   "metadata": {},
   "outputs": [],
   "source": [
    "df.with_columns(\n",
    "    (pl.col(\"Actual Generation (GWh)\") * 1000).alias(\"Generation_MWh\")\n",
    ")"
   ]
  },
  {
   "cell_type": "markdown",
   "id": "b463e43eecb64f60",
   "metadata": {},
   "source": [
    "# Filtering and Sorting"
   ]
  },
  {
   "cell_type": "code",
   "execution_count": null,
   "id": "e2d93ff1bf2382ba",
   "metadata": {},
   "outputs": [],
   "source": [
    "df.filter(pl.col(\"Primary Source\") == \"Thermal\")"
   ]
  },
  {
   "cell_type": "code",
   "execution_count": null,
   "id": "3e0baaa4d4ed2557",
   "metadata": {},
   "outputs": [],
   "source": [
    "df.filter(pl.col(\"Actual Generation (GWh)\") > 10)"
   ]
  },
  {
   "cell_type": "code",
   "execution_count": null,
   "id": "9992dcb0dfde3bc",
   "metadata": {},
   "outputs": [],
   "source": [
    "df.sort(\"Actual Generation (GWh)\", descending=True)"
   ]
  },
  {
   "cell_type": "markdown",
   "id": "5b215127512f404b",
   "metadata": {},
   "source": [
    "# Grouping and Aggregations\n"
   ]
  },
  {
   "cell_type": "code",
   "execution_count": null,
   "id": "142784c8e74ae9a2",
   "metadata": {},
   "outputs": [],
   "source": [
    "df.group_by(\"Primary Source\").agg(\n",
    "    pl.col(\"Actual Generation (GWh)\").sum().alias(\"Total_Generation\"),\n",
    "    pl.col(\"Actual Generation (GWh)\").mean().alias(\"Avg_Generation\"),\n",
    "    pl.col(\"Actual Generation (GWh)\").count().alias(\"Count\")\n",
    ")"
   ]
  },
  {
   "cell_type": "code",
   "execution_count": null,
   "id": "bd16d220471b1124",
   "metadata": {},
   "outputs": [],
   "source": [
    "df.group_by(\"Primary Source\").agg(\n",
    "    pl.col(\"Actual Generation (GWh)\").max().alias(\"Max Gen\")\n",
    ")"
   ]
  },
  {
   "cell_type": "markdown",
   "id": "5021392feeb8fd43",
   "metadata": {},
   "source": [
    "# Time series operations\n",
    "Many datasets in energy are time series, and our dataset is no exception. \n",
    "\n",
    "Therefore, we'll show some operations that can be performed on dates and time series."
   ]
  },
  {
   "cell_type": "code",
   "execution_count": null,
   "id": "6673ebcb38ceeade",
   "metadata": {},
   "outputs": [],
   "source": [
    "df.with_columns(\n",
    "    pl.col(\"Date\").dt.hour().alias(\"Hour\")\n",
    ")"
   ]
  },
  {
   "cell_type": "code",
   "execution_count": null,
   "id": "7a197c7e381caf68",
   "metadata": {},
   "outputs": [],
   "source": [
    "generation_df = (\n",
    "    df\n",
    "    .with_columns(pl.col(\"Date\").dt.hour().alias(\"Hour\"))\n",
    "    .group_by(\"Hour\")\n",
    "    .agg(pl.col(\"Actual Generation (GWh)\").mean().alias(\"Hourly Generation\"))\n",
    "    .sort('Hour')\n",
    " )"
   ]
  },
  {
   "cell_type": "code",
   "execution_count": null,
   "id": "5c30db7a88241b31",
   "metadata": {},
   "outputs": [],
   "source": [
    "px.line(generation_df, x='Hour', y='Hourly Generation')"
   ]
  },
  {
   "cell_type": "code",
   "execution_count": null,
   "id": "d3a48233810fcf44",
   "metadata": {},
   "outputs": [],
   "source": [
    " generation_by_hour_source_df = (\n",
    "    df\n",
    "    .with_columns(pl.col(\"Date\").dt.hour().alias(\"Hour\"))\n",
    "    .with_columns(pl.col(\"Actual Generation (GWh)\").mean().over('Hour', 'Primary Source').alias(\"Hourly Generation\"))\n",
    "    .select('Hour', 'Primary Source', \"Hourly Generation\")\n",
    "    .unique()\n",
    "    .sort('Hour')\n",
    " )"
   ]
  },
  {
   "cell_type": "code",
   "execution_count": null,
   "id": "a06c8b3805dcc76b",
   "metadata": {},
   "outputs": [],
   "source": [
    "px.area(generation_by_hour_source_df, x='Hour', y='Hourly Generation', color='Primary Source')"
   ]
  },
  {
   "cell_type": "markdown",
   "id": "d5eb24fef2c890d4",
   "metadata": {},
   "source": [
    "# Advanced Data Manipulation\n",
    "We'll now showcase some operations such as pivot and rolling means."
   ]
  },
  {
   "cell_type": "code",
   "execution_count": null,
   "id": "94763146d5d46720",
   "metadata": {},
   "outputs": [],
   "source": [
    "df.pivot(\n",
    "    values=\"Actual Generation (GWh)\",\n",
    "    index=\"Date\",\n",
    "    on=\"Primary Source\",\n",
    "    aggregate_function=\"mean\"\n",
    ")"
   ]
  },
  {
   "cell_type": "code",
   "execution_count": null,
   "id": "fe0b2c3396a9f3a4",
   "metadata": {},
   "outputs": [],
   "source": [
    "(\n",
    "    df\n",
    "    .select(\n",
    "        pl.col('Date'),\n",
    "        pl.col('Actual Generation (GWh)').sum().over('Date')\n",
    "    )\n",
    "    .unique()\n",
    "    .sort('Date')\n",
    "    .select(\n",
    "        pl.col('Date'),\n",
    "        pl.col('Actual Generation (GWh)').rolling_mean(24)\n",
    "    )\n",
    ")"
   ]
  },
  {
   "cell_type": "markdown",
   "id": "9c3f936aee894976",
   "metadata": {},
   "source": [
    "# Exporting Data"
   ]
  },
  {
   "cell_type": "code",
   "execution_count": null,
   "id": "87f541250a61943d",
   "metadata": {},
   "outputs": [],
   "source": [
    "output_df = (\n",
    "    df\n",
    "    .with_columns(date = pl.col('Date').dt.date())\n",
    "    .group_by('date', 'Primary Source')\n",
    "    .agg(pl.col('Actual Generation (GWh)').sum().alias('generation_gwh'))\n",
    "    .select(\n",
    "        pl.col('date'),\n",
    "        pl.col('generation_gwh'),\n",
    "        pl.col('Primary Source').alias('source')\n",
    "    )\n",
    "    .sort('date', 'source')\n",
    ")"
   ]
  },
  {
   "cell_type": "code",
   "execution_count": null,
   "id": "8416eb9a591ddc0",
   "metadata": {},
   "outputs": [],
   "source": [
    "output_df.write_csv('output.csv')\n",
    "output_df.write_excel('output.xlsx')\n",
    "output_df.write_parquet('output.parquet')"
   ]
  }
 ],
 "metadata": {
  "kernelspec": {
   "display_name": "Python 3 (ipykernel)",
   "language": "python",
   "name": "python3"
  },
  "language_info": {
   "codemirror_mode": {
    "name": "ipython",
    "version": 3
   },
   "file_extension": ".py",
   "mimetype": "text/x-python",
   "name": "python",
   "nbconvert_exporter": "python",
   "pygments_lexer": "ipython3",
   "version": "3.12.6"
  }
 },
 "nbformat": 4,
 "nbformat_minor": 5
}
